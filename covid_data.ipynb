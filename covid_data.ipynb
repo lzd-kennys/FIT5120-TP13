{
 "cells": [
  {
   "cell_type": "code",
   "execution_count": 1,
   "id": "21af6326",
   "metadata": {},
   "outputs": [],
   "source": [
    "import pandas as pd\n",
    "from requests_html import HTMLSession\n",
    "import time"
   ]
  },
  {
   "cell_type": "code",
   "execution_count": 2,
   "id": "7c9c08d8",
   "metadata": {},
   "outputs": [],
   "source": [
    "session = HTMLSession()"
   ]
  },
  {
   "cell_type": "code",
   "execution_count": 3,
   "id": "c9e392b8",
   "metadata": {},
   "outputs": [],
   "source": [
    "sel = '#content > div.container > div.box > section > table'"
   ]
  },
  {
   "cell_type": "code",
   "execution_count": 4,
   "id": "d394ad6f",
   "metadata": {},
   "outputs": [],
   "source": [
    "url = 'https://covidlive.com.au/report/cases-by-lga/vic'"
   ]
  },
  {
   "cell_type": "code",
   "execution_count": 5,
   "id": "95e242d7",
   "metadata": {},
   "outputs": [],
   "source": [
    "url_data = session.get(url)\n",
    "    # explain later\n",
    "time.sleep(0.1)\n",
    "    # get required data \n",
    "results = url_data.html.find(sel)\n",
    "box_data = results[0].text\n",
    "    # split the data from a string to a list\n",
    "box_list = box_data.split('\\n')"
   ]
  },
  {
   "cell_type": "code",
   "execution_count": 6,
   "id": "dd4c2ea9",
   "metadata": {},
   "outputs": [],
   "source": [
    "l = 5\n",
    "LGA = []\n",
    "while l < 325:\n",
    "    LGA.append(box_list[l])\n",
    "    l += 4"
   ]
  },
  {
   "cell_type": "code",
   "execution_count": 7,
   "id": "414fca67",
   "metadata": {},
   "outputs": [],
   "source": [
    "a = 6\n",
    "ACTIVE = []\n",
    "while a < 325:\n",
    "    ACTIVE.append(box_list[a])\n",
    "    a += 4"
   ]
  },
  {
   "cell_type": "code",
   "execution_count": 8,
   "id": "f1f3a7e9",
   "metadata": {},
   "outputs": [],
   "source": [
    "c = 7\n",
    "CASES = []\n",
    "while c < 325:\n",
    "    CASES.append(box_list[c])\n",
    "    c += 4"
   ]
  },
  {
   "cell_type": "code",
   "execution_count": 9,
   "id": "6fb07262",
   "metadata": {},
   "outputs": [],
   "source": [
    "av = 8\n",
    "Av = []\n",
    "while av < 325:\n",
    "    Av.append(box_list[av])\n",
    "    av += 4"
   ]
  },
  {
   "cell_type": "code",
   "execution_count": 10,
   "id": "d5796be5",
   "metadata": {},
   "outputs": [],
   "source": [
    "dic = {'LGA': LGA, 'ACTIVE': ACTIVE, 'CASES': CASES, '7d Av': Av}"
   ]
  },
  {
   "cell_type": "code",
   "execution_count": 11,
   "id": "741829f9",
   "metadata": {},
   "outputs": [
    {
     "data": {
      "text/html": [
       "<div>\n",
       "<style scoped>\n",
       "    .dataframe tbody tr th:only-of-type {\n",
       "        vertical-align: middle;\n",
       "    }\n",
       "\n",
       "    .dataframe tbody tr th {\n",
       "        vertical-align: top;\n",
       "    }\n",
       "\n",
       "    .dataframe thead th {\n",
       "        text-align: right;\n",
       "    }\n",
       "</style>\n",
       "<table border=\"1\" class=\"dataframe\">\n",
       "  <thead>\n",
       "    <tr style=\"text-align: right;\">\n",
       "      <th></th>\n",
       "      <th>LGA</th>\n",
       "      <th>ACTIVE</th>\n",
       "      <th>CASES</th>\n",
       "      <th>7d Av</th>\n",
       "    </tr>\n",
       "  </thead>\n",
       "  <tbody>\n",
       "    <tr>\n",
       "      <th>0</th>\n",
       "      <td>Casey</td>\n",
       "      <td>2,736</td>\n",
       "      <td>541</td>\n",
       "      <td>444</td>\n",
       "    </tr>\n",
       "    <tr>\n",
       "      <th>1</th>\n",
       "      <td>Greater Geelong</td>\n",
       "      <td>2,317</td>\n",
       "      <td>461</td>\n",
       "      <td>381</td>\n",
       "    </tr>\n",
       "    <tr>\n",
       "      <th>2</th>\n",
       "      <td>Brimbank</td>\n",
       "      <td>1,520</td>\n",
       "      <td>425</td>\n",
       "      <td>237</td>\n",
       "    </tr>\n",
       "    <tr>\n",
       "      <th>3</th>\n",
       "      <td>Wyndham</td>\n",
       "      <td>2,143</td>\n",
       "      <td>408</td>\n",
       "      <td>342</td>\n",
       "    </tr>\n",
       "    <tr>\n",
       "      <th>4</th>\n",
       "      <td>Moreland</td>\n",
       "      <td>1,664</td>\n",
       "      <td>367</td>\n",
       "      <td>276</td>\n",
       "    </tr>\n",
       "    <tr>\n",
       "      <th>...</th>\n",
       "      <td>...</td>\n",
       "      <td>...</td>\n",
       "      <td>...</td>\n",
       "      <td>...</td>\n",
       "    </tr>\n",
       "    <tr>\n",
       "      <th>75</th>\n",
       "      <td>Pyrenees</td>\n",
       "      <td>38</td>\n",
       "      <td>7</td>\n",
       "      <td>7</td>\n",
       "    </tr>\n",
       "    <tr>\n",
       "      <th>76</th>\n",
       "      <td>Towong</td>\n",
       "      <td>35</td>\n",
       "      <td>7</td>\n",
       "      <td>6</td>\n",
       "    </tr>\n",
       "    <tr>\n",
       "      <th>77</th>\n",
       "      <td>Queenscliffe</td>\n",
       "      <td>22</td>\n",
       "      <td>7</td>\n",
       "      <td>3</td>\n",
       "    </tr>\n",
       "    <tr>\n",
       "      <th>78</th>\n",
       "      <td>Buloke</td>\n",
       "      <td>21</td>\n",
       "      <td>3</td>\n",
       "      <td>3</td>\n",
       "    </tr>\n",
       "    <tr>\n",
       "      <th>79</th>\n",
       "      <td>Unincorporated Vic</td>\n",
       "      <td>3</td>\n",
       "      <td>1</td>\n",
       "      <td>1</td>\n",
       "    </tr>\n",
       "  </tbody>\n",
       "</table>\n",
       "<p>80 rows × 4 columns</p>\n",
       "</div>"
      ],
      "text/plain": [
       "                   LGA ACTIVE CASES 7d Av\n",
       "0                Casey  2,736   541   444\n",
       "1      Greater Geelong  2,317   461   381\n",
       "2             Brimbank  1,520   425   237\n",
       "3              Wyndham  2,143   408   342\n",
       "4             Moreland  1,664   367   276\n",
       "..                 ...    ...   ...   ...\n",
       "75            Pyrenees     38     7     7\n",
       "76              Towong     35     7     6\n",
       "77        Queenscliffe     22     7     3\n",
       "78              Buloke     21     3     3\n",
       "79  Unincorporated Vic      3     1     1\n",
       "\n",
       "[80 rows x 4 columns]"
      ]
     },
     "execution_count": 11,
     "metadata": {},
     "output_type": "execute_result"
    }
   ],
   "source": [
    "data=pd.DataFrame(dic)\n",
    "data"
   ]
  },
  {
   "cell_type": "code",
   "execution_count": 12,
   "id": "2fc1b7c2",
   "metadata": {},
   "outputs": [],
   "source": [
    "f = open(\"C:/Users/dell/Desktop/covid.txt\", \"w\")"
   ]
  },
  {
   "cell_type": "code",
   "execution_count": 13,
   "id": "7bcab07b",
   "metadata": {},
   "outputs": [
    {
     "name": "stdout",
     "output_type": "stream",
     "text": [
      "insert into covid values ( 'Casey', '2,736', '541', '444') ;\n",
      "insert into covid values ( 'Greater Geelong', '2,317', '461', '381') ;\n",
      "insert into covid values ( 'Brimbank', '1,520', '425', '237') ;\n",
      "insert into covid values ( 'Wyndham', '2,143', '408', '342') ;\n",
      "insert into covid values ( 'Moreland', '1,664', '367', '276') ;\n",
      "insert into covid values ( 'Melbourne', '1,690', '355', '276') ;\n",
      "insert into covid values ( 'Monash', '1,730', '332', '283') ;\n",
      "insert into covid values ( 'Whittlesea', '1,757', '326', '284') ;\n",
      "insert into covid values ( 'Hume', '1,471', '315', '237') ;\n",
      "insert into covid values ( 'Whitehorse', '1,532', '311', '251') ;\n",
      "insert into covid values ( 'Kingston', '1,484', '310', '241') ;\n",
      "insert into covid values ( 'Boroondara', '1,597', '304', '260') ;\n",
      "insert into covid values ( 'Mornington Peninsula', '1,326', '293', '218') ;\n",
      "insert into covid values ( 'Melton', '1,382', '284', '222') ;\n",
      "insert into covid values ( 'Glen Eira', '1,396', '281', '223') ;\n",
      "insert into covid values ( 'Knox', '1,376', '278', '222') ;\n",
      "insert into covid values ( 'Darebin', '1,477', '262', '239') ;\n",
      "insert into covid values ( 'Yarra Ranges', '1,307', '261', '212') ;\n",
      "insert into covid values ( 'Greater Dandenong', '1,117', '250', '181') ;\n",
      "insert into covid values ( 'Manningham', '1,086', '250', '178') ;\n",
      "insert into covid values ( 'Frankston', '1,168', '240', '191') ;\n",
      "insert into covid values ( 'Ballarat', '1,051', '219', '170') ;\n",
      "insert into covid values ( 'Banyule', '1,246', '218', '196') ;\n",
      "insert into covid values ( 'Moonee Valley', '1,095', '211', '178') ;\n",
      "insert into covid values ( 'Greater Bendigo', '1,214', '207', '194') ;\n",
      "insert into covid values ( 'Port Phillip', '917', '204', '152') ;\n",
      "insert into covid values ( 'Cardinia', '921', '198', '150') ;\n",
      "insert into covid values ( 'Maroondah', '1,035', '197', '168') ;\n",
      "insert into covid values ( 'Stonnington', '963', '184', '158') ;\n",
      "insert into covid values ( 'Yarra', '872', '183', '147') ;\n",
      "insert into covid values ( 'Bayside', '834', '154', '140') ;\n",
      "insert into covid values ( 'Hobsons Bay', '763', '149', '123') ;\n",
      "insert into covid values ( 'Maribyrnong', '815', '141', '131') ;\n",
      "insert into covid values ( 'Nillumbik', '517', '118', '85') ;\n",
      "insert into covid values ( 'Latrobe', '553', '98', '91') ;\n",
      "insert into covid values ( 'Wodonga', '458', '95', '73') ;\n",
      "insert into covid values ( 'Greater Shepparton', '473', '93', '75') ;\n",
      "insert into covid values ( 'Wellington', '434', '80', '70') ;\n",
      "insert into covid values ( 'Macedon Ranges', '393', '79', '64') ;\n",
      "insert into covid values ( 'Mildura', '463', '72', '74') ;\n",
      "insert into covid values ( 'East Gippsland', '377', '72', '60') ;\n",
      "insert into covid values ( 'Baw Baw', '421', '68', '66') ;\n",
      "insert into covid values ( 'Bass Coast', '290', '63', '46') ;\n",
      "insert into covid values ( 'Surf Coast', '269', '59', '49') ;\n",
      "insert into covid values ( 'Campaspe', '209', '59', '36') ;\n",
      "insert into covid values ( 'Mitchell', '297', '52', '48') ;\n",
      "insert into covid values ( 'Warrnambool', '277', '48', '48') ;\n",
      "insert into covid values ( 'South Gippsland', '229', '47', '38') ;\n",
      "insert into covid values ( 'Wangaratta', '268', '43', '42') ;\n",
      "insert into covid values ( 'Moorabool', '231', '40', '38') ;\n",
      "insert into covid values ( 'Moira', '197', '39', '32') ;\n",
      "insert into covid values ( 'Indigo', '148', '38', '24') ;\n",
      "insert into covid values ( 'Horsham', '245', '37', '38') ;\n",
      "insert into covid values ( 'Golden Plains', '197', '35', '31') ;\n",
      "insert into covid values ( 'Mount Alexander', '148', '29', '24') ;\n",
      "insert into covid values ( 'Southern Grampians', '139', '23', '22') ;\n",
      "insert into covid values ( 'Hepburn', '108', '22', '19') ;\n",
      "insert into covid values ( 'Glenelg', '120', '21', '18') ;\n",
      "insert into covid values ( 'Benalla', '118', '21', '19') ;\n",
      "insert into covid values ( 'Ararat', '118', '20', '18') ;\n",
      "insert into covid values ( 'Swan Hill', '111', '20', '19') ;\n",
      "insert into covid values ( 'Central Goldfields', '93', '20', '15') ;\n",
      "insert into covid values ( 'Colac Otway', '127', '19', '20') ;\n",
      "insert into covid values ( 'Murrindindi', '99', '17', '16') ;\n",
      "insert into covid values ( 'Mansfield', '80', '16', '13') ;\n",
      "insert into covid values ( 'Corangamite', '79', '15', '14') ;\n",
      "insert into covid values ( 'Gannawarra', '54', '15', '9') ;\n",
      "insert into covid values ( 'West Wimmera', '46', '14', '8') ;\n",
      "insert into covid values ( 'Alpine', '89', '13', '15') ;\n",
      "insert into covid values ( 'Hindmarsh', '58', '13', '9') ;\n",
      "insert into covid values ( 'Moyne', '94', '11', '17') ;\n",
      "insert into covid values ( 'Northern Grampians', '80', '9', '13') ;\n",
      "insert into covid values ( 'Strathbogie', '58', '8', '10') ;\n",
      "insert into covid values ( 'Yarriambiack', '41', '8', '7') ;\n",
      "insert into covid values ( 'Loddon', '28', '8', '5') ;\n",
      "insert into covid values ( 'Pyrenees', '38', '7', '7') ;\n",
      "insert into covid values ( 'Towong', '35', '7', '6') ;\n",
      "insert into covid values ( 'Queenscliffe', '22', '7', '3') ;\n",
      "insert into covid values ( 'Buloke', '21', '3', '3') ;\n",
      "insert into covid values ( 'Unincorporated Vic', '3', '1', '1') ;\n"
     ]
    }
   ],
   "source": [
    "for i in data.index:\n",
    "    print(\"insert into covid values ( '{}', '{}', '{}', '{}') ;\".format(data.loc[i][\"LGA\"],data.loc[i][\"ACTIVE\"],data.loc[i][\"CASES\"],data.loc[i][\"7d Av\"]))\n",
    "    f.write(\"insert into covid values ( '{}', '{}', '{}', '{}');\\n\".format(data.loc[i][\"LGA\"],data.loc[i][\"ACTIVE\"],data.loc[i][\"CASES\"],data.loc[i][\"7d Av\"]))\n",
    "    #print(sample.loc[i][\"student_id\"],sample.loc[i][\"name\"])"
   ]
  },
  {
   "cell_type": "code",
   "execution_count": 14,
   "id": "82b5cafe",
   "metadata": {},
   "outputs": [],
   "source": [
    "f.close()"
   ]
  }
 ],
 "metadata": {
  "kernelspec": {
   "display_name": "Python 3",
   "language": "python",
   "name": "python3"
  },
  "language_info": {
   "codemirror_mode": {
    "name": "ipython",
    "version": 3
   },
   "file_extension": ".py",
   "mimetype": "text/x-python",
   "name": "python",
   "nbconvert_exporter": "python",
   "pygments_lexer": "ipython3",
   "version": "3.8.8"
  }
 },
 "nbformat": 4,
 "nbformat_minor": 5
}
